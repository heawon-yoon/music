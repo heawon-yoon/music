{
 "cells": [
  {
   "cell_type": "code",
   "execution_count": null,
   "id": "de9348b8",
   "metadata": {},
   "outputs": [],
   "source": [
    "pip install gradio"
   ]
  },
  {
   "cell_type": "code",
   "execution_count": null,
   "id": "1a415bf2-4afa-4ce0-a7b7-37773c143369",
   "metadata": {
    "tags": []
   },
   "outputs": [],
   "source": [
    "import os\n",
    "import sys\n",
    "now_dir = os.getcwd()\n",
    "sys.path.append(now_dir)\n",
    "\n",
    "now_dir = os.getcwd()\n",
    "sys.path.append(now_dir)\n",
    "from custom.slicer2 import predata\n",
    "from paddlespeech.cli.asr.infer import ASRExecutor\n",
    "\n",
    "from infer.modules.uvr5.modules import uvr\n",
    "\n",
    "from configs.config import Config\n",
    "from dotenv import load_dotenv\n",
    "import torch\n",
    "import numpy as np\n",
    "import gradio as gr\n",
    "import faiss\n",
    "import fairseq\n",
    "import pathlib\n",
    "import json\n",
    "from time import sleep\n",
    "from subprocess import Popen\n",
    "from random import shuffle\n",
    "import warnings\n",
    "import traceback\n",
    "import threading\n",
    "import shutil\n",
    "import logging\n",
    "from custom.reformat_wavs import reformat_wavs\n",
    "from pypinyin import pinyin, lazy_pinyin, Style\n",
    "from custom.pinyin import pinyin2ph_func\n",
    "from custom.enhance_tg import enhance_tg\n",
    "from custom.build_dataset import build_dataset\n",
    "from custom.add_ph_num import add_ph_num\n",
    "from custom.estimate_midi import estimate_midi\n",
    "from custom.convert_ds import csv2ds\n",
    "from custom.combine_ds import combine_ds\n",
    "from custom.path_util import get_full_path\n",
    "from custom.audio import merge_wav\n",
    "import librosa\n",
    "\n",
    "\n",
    "\n",
    "\n",
    "\n",
    "logging.getLogger(\"numba\").setLevel(logging.WARNING)\n",
    "\n",
    "logger = logging.getLogger(__name__)\n",
    "\n",
    "tmp = os.path.join(now_dir, \"TEMP\")\n",
    "shutil.rmtree(tmp, ignore_errors=True)\n",
    "shutil.rmtree(\"%s/runtime/Lib/site-packages/infer_pack\" % (now_dir), ignore_errors=True)\n",
    "shutil.rmtree(\"%s/runtime/Lib/site-packages/uvr5_pack\" % (now_dir), ignore_errors=True)\n",
    "os.makedirs(tmp, exist_ok=True)\n",
    "os.makedirs(os.path.join(now_dir, \"logs\"), exist_ok=True)\n",
    "os.makedirs(os.path.join(now_dir, \"assets/weights\"), exist_ok=True)\n",
    "os.environ[\"TEMP\"] = tmp\n",
    "warnings.filterwarnings(\"ignore\")\n",
    "torch.manual_seed(114514)\n",
    "\n",
    "load_dotenv()\n",
    "\n",
    "print(\"weight_uvr5_root 55555\",os.getenv(\"weight_uvr5_root\"))\n",
    "\n",
    "config = Config()\n",
    "lyc_data = []\n",
    "slice_data = None\n",
    "rstd = None\n",
    "def gen_lyc(audio):\n",
    "    \n",
    "     global rstd\n",
    "     global lyc_data\n",
    "     rst = uvr(\"HP5-主旋律人声vocals+其他instrumentals\",\"\",\"opt\"\n",
    "     ,audio,\"opt\",10,\"wav\")\n",
    "     print(\"rst\",rst)\n",
    "     rstd = rst\n",
    "     print(\"rstd\",rstd)\n",
    "     global slice_data\n",
    "     slice_data = predata(rst[\"vocal\"])\n",
    "     print(slice_data)\n",
    "     asr = ASRExecutor()\n",
    "     rst_data = []\n",
    "     dir_tmp_path = None\n",
    "     for slice in slice_data:\n",
    "         try:\n",
    "             #语音转文字\n",
    "             print(slice[\"wav_path\"])\n",
    "             tmp_audio = slice[\"wav_path\"]\n",
    "             result = asr(audio_file=tmp_audio,force_yes=True)\n",
    "             print(result)\n",
    "             lyc = {}\n",
    "             lyc[\"length\"]=len(result)\n",
    "             lyc[\"text\"]=result\n",
    "             lyc_data.append(lyc)\n",
    "             rst_data.append(result)\n",
    "            \n",
    "             #文字转音速.lab文件\n",
    "             dir_path = os.path.dirname(tmp_audio)\n",
    "             name, extension = os.path.splitext(tmp_audio)\n",
    "             lab_file_path = os.path.join(dir_path, name + '.lab')\n",
    "             pinyin2phs=pinyin2ph_func(result)\n",
    "             print(\"pinyins :\"+\" \".join(pinyin2phs))\n",
    "             with open(lab_file_path, \"w\") as file:\n",
    "                 file.write(\" \".join(pinyin2phs))\n",
    "         except:\n",
    "             print(\"%s->Suc.\" % slice[\"wav_path\"])\n",
    "     return \"\\n\".join(rst_data)\n",
    "def run_acoustic(text_input,text_speaker,audio):\n",
    "     #人声分离\n",
    "     #人声分离\n",
    "     #rst = uvr(\"HP2-人声vocals+非人声instrumentals\",\"\",\"opt\"\n",
    "     #,audio,\"opt\",10,\"wav\")\n",
    "     #print(\"rst\",rst)\n",
    "     print(slice_data)\n",
    "     print(text_input)\n",
    "     if slice_data is None:\n",
    "         return \"请先生成歌词\"\n",
    "     rst_data = []\n",
    "     dir_tmp_path = None\n",
    "     for i,slice in enumerate(slice_data):\n",
    "         try:\n",
    "             #语音转文字\n",
    "             print(slice[\"wav_path\"])\n",
    "             tmp_audio = slice[\"wav_path\"]\n",
    "             dir_path = os.path.dirname(tmp_audio)\n",
    "             dir_tmp_path = dir_path\n",
    "                \n",
    "            \n",
    "         except:\n",
    "             print(\"%s->Suc.\" % slice[\"wav_path\"])\n",
    "     print(dir_tmp_path)\n",
    "    \n",
    "     # 格式化mfa识别的音频格式\n",
    "     reformat_wavs(dir_tmp_path,dir_tmp_path+\"/tmp\") \n",
    "    \n",
    "    \n",
    "     #生成mfa gridtext文件 mfa align path/to/tmp/dir/ path/to/your/dictionary.txt path/to/your/model.zip path/to/your/textgrids/ --beam 100 --clean --overwrite\n",
    "     os.system(\"mfa align %s %s %s %s --beam 100 --clean --overwrite\" % (dir_tmp_path+\"/tmp\", \"dictionaries/opencpop.txt\",\"mfa-opencpop-extension.zip\",dir_tmp_path+\"/textgrids\"))\n",
    "    \n",
    "     #重新优化gridtext\n",
    "     enhance_tg(dir_tmp_path+\"/tmp\",\"dictionaries/opencpop.txt\",dir_tmp_path+\"/textgrids\",dir_tmp_path+\"/textgrids/final\")\n",
    "    \n",
    "     #生成transcation.csv文件\n",
    "     build_dataset(dir_tmp_path+\"/tmp\", dir_tmp_path+\"/textgrids/final\", dir_tmp_path+\"/tmp\")\n",
    "    \n",
    "     #添加音高\n",
    "     add_ph_num(dir_tmp_path+\"/tmp/transcriptions.csv\",\"dictionaries/opencpop.txt\")\n",
    "     estimate_midi(dir_tmp_path+\"/tmp/transcriptions.csv\",dir_tmp_path+\"/tmp\")\n",
    "     \n",
    "     #python convert_ds.py csv2ds path/to/your/transcriptions.csv path/to/your/wavs --overwrite\n",
    "     os.system(\"python custom/convert_ds.py csv2ds %s %s \" % (dir_tmp_path+\"/tmp/transcriptions.csv\", dir_tmp_path+\"/tmp\"))\n",
    "    \n",
    "     #生成推理文件\n",
    "     ds_file = combine_ds(dir_tmp_path+\"/tmp\",slice_data,text_input)\n",
    "      \n",
    "     #开始推理   \n",
    "     os.system(\"python scripts/infer.py acoustic %s --exp my_experiment --spk opencpop --out %s\" % (ds_file,os.path.dirname(ds_file)))\n",
    "     merge_wav(get_full_path(ds_file)+\".wav\",rstd[\"ins\"])\n",
    "     #acoustic(audio.name,'beyong','opencop','out2')\n",
    "     print(rstd)\n",
    "     print(get_full_path(ds_file)+\".wav\")\n",
    "     return \"\\n\".join(rst_data),\"merged.wav\"\n",
    "def flip_image(x):\n",
    "    return np.fliplr(x)\n",
    "with gr.Blocks() as demo:\n",
    "    #用markdown语法编辑输出一段话\n",
    "    gr.Markdown(\"Flip text or image files using this demo.\")\n",
    "    # 设置tab选项卡\n",
    "    with gr.Tab(\"cover\"):\n",
    "        #Blocks特有组件，设置所有子组件按垂直排列\n",
    "        #垂直排列是默认情况，不加也没关系\n",
    "        with gr.Column():\n",
    "            audio = gr.File(file_count=\"multiple\",label=\"上传音频\", info=\"需上传wav格式\")\n",
    "            lyr_button = gr.Button(\"生成歌词\")\n",
    "            text_input = gr.Textbox(label=\"歌词魔改\", info=\"一定要按原来歌词字数一样!\")\n",
    "            text_speaker =  gr.Dropdown(\n",
    "            [\"beyong\", \"ldh\", \"wf\"], label=\"原声\", info=\"Will add more animals later!\"\n",
    "            )\n",
    "            text_button = gr.Button(\"推理AI音频\")\n",
    "            vacal_audio = gr.Audio(label=\"AI音频\", info=\"合成音频最终显示在这里\")\n",
    "    with gr.Tab(\"video\"):\n",
    "        #Blocks特有组件，设置所有子组件按水平排列\n",
    "        with gr.Row():\n",
    "            image_input = gr.Image()\n",
    "            image_output = gr.Image()\n",
    "        image_button = gr.Button(\"Flip\")\n",
    "    #设置折叠内容\n",
    "    with gr.Accordion(\"Open for More!\"):\n",
    "        gr.Markdown(\"Look at me...\")\n",
    "    text_button.click(run_acoustic, inputs=[text_input,text_speaker,audio], outputs=[text_input,vacal_audio])\n",
    "    lyr_button.click(gen_lyc, inputs=[audio], outputs=[text_input])\n",
    "demo.launch(server_name='127.0.0.1',server_port=7861)\n"
   ]
  },
  {
   "cell_type": "code",
   "execution_count": null,
   "id": "4e5a673b",
   "metadata": {},
   "outputs": [],
   "source": []
  },
  {
   "cell_type": "code",
   "execution_count": null,
   "id": "9b7fa34b-91e8-48f9-a2b2-d1d115194a64",
   "metadata": {},
   "outputs": [],
   "source": [
    "from pypinyin import pinyin, lazy_pinyin, Style\n",
    "from custom.pinyin import pinyin2ph_func\n",
    "\n",
    "str = \"我已经忙碌上\"\n",
    "# lyric\n",
    "pinyin2phs=pinyin2ph_func(str)\n",
    "print(\"pinyins :\"+\" \".join(pinyin2phs))\n",
    "\n"
   ]
  },
  {
   "cell_type": "code",
   "execution_count": null,
   "id": "b0eff80a-197d-4be0-bd63-6d1180f64dc7",
   "metadata": {},
   "outputs": [],
   "source": [
    "from pypinyin import pinyin, lazy_pinyin, Style\n",
    "from custom.pinyin import pinyin2ph_func\n",
    "import os\n",
    "\n",
    "dir_path = os.path.dirname(\"/root/autodl-tmp/DiffSinger/opt/vocal_2001.wav.reformatted.wav_10_24.wav\")\n",
    "name, extension = os.path.splitext(\"/root/autodl-tmp/DiffSinger/opt/vocal_2001.wav.reformatted.wav_10_24.wav\")\n",
    "lab_file_path = os.path.join(dir_path, name + '.lab')\n",
    "str = \"我已经忙碌上\"\n",
    "# lyric\n",
    "pinyin2phs=pinyin2ph_func(str)\n",
    "print(\"pinyins :\"+\" \".join(pinyin2phs))\n",
    "with open(lab_file_path, \"w\") as file:\n",
    "    file.write(\" \".join(pinyin2phs))\n",
    "\n"
   ]
  },
  {
   "cell_type": "code",
   "execution_count": null,
   "id": "aa2d15b2-36fa-4a35-b0cc-0c241f1aa981",
   "metadata": {},
   "outputs": [],
   "source": [
    "from custom.add_ph_num import add_ph_num\n",
    "add_ph_num(\"opt/slice/tmp/transcriptions.csv\",\"dictionaries/opencpop-extension.txt\")"
   ]
  },
  {
   "cell_type": "code",
   "execution_count": null,
   "id": "0d9d5d40-752a-4f97-ba65-a9a365d6d724",
   "metadata": {},
   "outputs": [],
   "source": [
    "from custom.estimate_midi import estimate_midi\n",
    "estimate_midi(\"opt/slice/tmp/transcriptions.csv\", \"opt/slice/tmp/\")"
   ]
  },
  {
   "cell_type": "code",
   "execution_count": null,
   "id": "f71605b3-43e8-425b-ae7e-1d0c965bdac9",
   "metadata": {},
   "outputs": [],
   "source": [
    "from custom.convert_ds import csv2ds\n",
    "path=\"/root/autodl-tmp/DiffSinger/opt/slice/tmp/wavs\"\n",
    "item_name=\"vocal_2001.wav.reformatted.wav_10_0\"\n",
    "ds = path / f\"{item_name}.wav\"\n",
    "#csv2ds(\"opt/slice/tmp/transcriptions.csv\", \"/root/autodl-tmp/DiffSinger/opt/slice/tmp/wavs/\")"
   ]
  },
  {
   "cell_type": "code",
   "execution_count": null,
   "id": "d0c5318a-7a55-4d32-a693-ab6150a0c277",
   "metadata": {},
   "outputs": [],
   "source": [
    "import os\n",
    "os.system(\"python custom/convert_ds.py csv2ds %s %s \" % (\"opt/slice/tmp/transcriptions.csv\", \"opt/slice/tmp/wavs\"))\n"
   ]
  },
  {
   "cell_type": "code",
   "execution_count": null,
   "id": "13382862-08b2-4c54-a964-7f8c8aafecb3",
   "metadata": {},
   "outputs": [],
   "source": [
    "from custom.slicer2 import predata\n",
    "predata(\"/root/autodl-tmp/DiffSinger/assets/2001.wav\")"
   ]
  },
  {
   "cell_type": "code",
   "execution_count": null,
   "id": "0c98a08a-96cb-49bb-b585-a52c0a0d29e6",
   "metadata": {},
   "outputs": [],
   "source": [
    "from infer.modules.uvr5.modules import uvr\n",
    "\n",
    "rst = uvr(\"HP2-人声vocals+非人声instrumentals\",\"\",\"opt\"\n",
    "     ,\"/root/autodl-tmp/DiffSinger/assets/柯立可-我多想说再见啊.mp3\",\"opt\",10,\"wav\")"
   ]
  },
  {
   "cell_type": "code",
   "execution_count": null,
   "id": "38ebab6b-33fa-4cc4-b95c-d3b1e8b733c1",
   "metadata": {},
   "outputs": [],
   "source": [
    "import librosa\n",
    "import os\n",
    "\n",
    "files = os.listdir(\"/root/autodl-tmp/DiffSinger/assets/slice\")\n",
    "\n",
    "sum=0\n",
    "# 循环遍历文件\n",
    "for file in files:\n",
    "    if file.endswith('.wav'):  # 筛选出wav格式文件\n",
    "        file_path = os.path.join(\"/root/autodl-tmp/DiffSinger/assets/slice\", file)  # 构建文件完整路径\n",
    "        y, sr = librosa.load(file_path)\n",
    "        start_time = librosa.get_duration(filename=file_path)\n",
    "        sum+=start_time\n",
    "#(11527, 11764)\n",
    "print(sum)\n",
    "# 计算开始时间\n",
    "time = librosa.frames_to_time(11527)\n",
    "\n",
    "print(f'Start time for target shape {time}: {start_time} seconds')\n"
   ]
  },
  {
   "cell_type": "code",
   "execution_count": null,
   "id": "fd2e314c-1c59-4848-9a09-b9182f8c08fb",
   "metadata": {},
   "outputs": [],
   "source": [
    "import librosa\n",
    "import os\n",
    "\n",
    "audio_file = '/root/autodl-tmp/DiffSinger/assets/2001.wav'\n",
    "audio, sr = librosa.load(audio_file, sr=None, mono=False)\n",
    "time = librosa.frames_to_time(11764,sr=sr)\n",
    "start_time = librosa.get_duration(filename=audio_file)\n",
    "print(f'Start time for target shape {time}: {len(audio)}: {audio[5187456:5287456]} seconds')\n",
    "\n",
    "    \n",
    "#330750 , 728532\n",
    "#728532 , 979020\n"
   ]
  },
  {
   "cell_type": "code",
   "execution_count": null,
   "id": "64784045-40cf-4ac6-a27f-42d2c9f36673",
   "metadata": {},
   "outputs": [],
   "source": [
    "import os\n",
    "import sys\n",
    "sys.path.append('.')\n",
    "os.system(\"python /root/autodl-tmp/DiffSinger/custom/convert_ds.py csv2ds %s %s \" % (\"/root/autodl-tmp/DiffSinger/opt/slice/tmp/transcriptions.csv\", \"/root/autodl-tmp/DiffSinger/opt/slice/tmp/wavs\"))"
   ]
  },
  {
   "cell_type": "code",
   "execution_count": null,
   "id": "26e8982b-cdee-4b00-8574-7e60a2552317",
   "metadata": {},
   "outputs": [],
   "source": [
    "import os\n",
    "\n",
    "ds_file = \"/root/autodl-tmp/DiffSinger/opt/slice/tmp/all_fl.ds\"\n",
    "final_file = os.path.dirname(ds_file)\n",
    "print(os.path.dirname(ds_file))\n",
    "\n",
    "os.system(\"python scripts/infer.py acoustic %s --exp my_experiment --spk opencpop --out %s\" % (ds_file,final_file))"
   ]
  },
  {
   "cell_type": "code",
   "execution_count": null,
   "id": "55f473c2-aaae-4cb3-9329-5de1fd41ebdf",
   "metadata": {},
   "outputs": [],
   "source": [
    "from custom.audio import merge_wav\n",
    "\n",
    "merge_wav(\"/root/autodl-tmp/DiffSinger/opt/slice/tmp/all_fl.wav\",\"/root/autodl-tmp/DiffSinger/opt/instrument_孙楠-风往北吹.mp3_10.wav\")"
   ]
  },
  {
   "cell_type": "code",
   "execution_count": null,
   "id": "e4d72aa6-608a-4545-aeca-5d9405f9e0e1",
   "metadata": {},
   "outputs": [],
   "source": [
    "import librosa\n",
    "import soundfile as sf\n",
    "\n",
    "# 加载音频文件\n",
    "audio, sr = librosa.load('opt/vocal_孙楠-风往北吹.mp3_10.wav')\n",
    "\n",
    "# 将音频升八度\n",
    "vocals, _ = librosa.effects.hpss(audio)\n",
    "vocals_amplified = vocals * 2.0\n",
    "pitch_shifted = librosa.effects.pitch_shift(vocals_amplified, sr, n_steps=0)\n",
    "\n",
    "# 保存处理后的音频文件\n",
    "sf.write('output.wav', pitch_shifted, sr)"
   ]
  },
  {
   "cell_type": "code",
   "execution_count": null,
   "id": "207b79e7-f1a0-49d1-bd85-2d5d3e30b9db",
   "metadata": {},
   "outputs": [],
   "source": [
    "from custom.pinyin import pinyin2ph_word, replace_seq\n",
    "str1 = \"我要把你的戒指带给他\"\n",
    "str = \"AP sh i zh e SP j v y i b a x in ch en SP z ai sh ou ai SP\"\n",
    "#str = \"AP sh i zh e SP j v y i b a x in ch en SP z ai sh ou x in SP\"\n",
    "\n",
    "str_list = pinyin2ph_word(str1)\n",
    "print(\" \".join(pinyin2ph_word(str1)))\n",
    "print(len(str.split()))\n",
    "print(len(\" \".join(pinyin2ph_word(str1)).split()))\n",
    "\n",
    "nstr = replace_seq(str,str1)\n",
    "print(\" \".join(nstr))"
   ]
  },
  {
   "cell_type": "code",
   "execution_count": null,
   "id": "b873a877-b8c5-469e-8413-ee67642a4ebc",
   "metadata": {},
   "outputs": [],
   "source": [
    "import json\n",
    "with open(\"11.ds\", 'r') as file:\n",
    "            # 读取ds文件内容为数组\n",
    "            content = file.readlines()\n",
    "            json_data = json.loads(''.join(content))\n",
    "            print(json_data)\n",
    "            print(len(json_data[0][\"f0_seq\"]))"
   ]
  },
  {
   "cell_type": "code",
   "execution_count": null,
   "id": "15ce9239-c337-4600-a29d-d22a37ba218e",
   "metadata": {},
   "outputs": [],
   "source": [
    "from custom.enhance_tg2 import enhance_tg\n",
    "#重新优化gridtext\n",
    "dir_tmp_path = \"opt1/slice\"\n",
    "enhance_tg(dir_tmp_path+\"/tmp\",\"dictionaries/opencpop.txt\",dir_tmp_path+\"/textgrids\",dir_tmp_path+\"/textgrids/final\")"
   ]
  },
  {
   "cell_type": "code",
   "execution_count": null,
   "id": "881929eb-185d-47cf-aad4-ccc996b7dd60",
   "metadata": {},
   "outputs": [],
   "source": [
    "from custom.combine_ds2 import combine_ds\n",
    "wavs = [{\"wav_path\":\"/root/autodl-tmp/DiffSinger/opt55/vocal_孙楠-风往北吹.mp3_10_4.wav\",\"offset\":1.9}]\n",
    "f_path = \"/root/autodl-tmp/DiffSinger/opt55\"\n",
    "text_inputs = \"被爱掏一把爱情在手上床前明月\"\n",
    "combine_ds(f_path,wavs,text_inputs)\n"
   ]
  },
  {
   "cell_type": "code",
   "execution_count": null,
   "id": "e463d669-89c5-4eeb-a951-71d98ba9380c",
   "metadata": {},
   "outputs": [],
   "source": [
    "str1 = \"SP w o y i w ei SP w o d e ai SP q ing k e y i m an SP z u n i x iang ai d e z ui SP\"\n",
    "str2 = \"SP b ei ai t ao SP y i b a ai SP q ing z ai sh ou sh ang SP ch uang q ian m ing y ve g uang h ei b ai\"\n",
    "str3 = \"0.460000 0.080000 0.417500 0.2525 0.160000 0.665000 0.455000 0.150000 0.080000 0.090000 0.110000 0.470000 0.100000 0.040000 0.327500 0.072500 0.260000 0.150000 0.310000 0.090000 0.350000 0.050000 0.050000 0.290000 0.140000 0.220000 0.200000 0.370000 0.15 0.15 0.040000 0.265000 0.125000 0.960000 0.31 0.31\"\n",
    "print(len(str1.split()))\n",
    "print(len(str2.split()))\n",
    "print(len(str3.split()))"
   ]
  },
  {
   "cell_type": "code",
   "execution_count": 3,
   "id": "3b0e0b36-f973-4a6e-8d12-88c4b946c5b3",
   "metadata": {},
   "outputs": [
    {
     "ename": "MissingSchema",
     "evalue": "Invalid URL '孙楠-不见不散.mp3': No scheme supplied. Perhaps you meant http://孙楠-不见不散.mp3?",
     "output_type": "error",
     "traceback": [
      "\u001b[0;31m---------------------------------------------------------------------------\u001b[0m",
      "\u001b[0;31mMissingSchema\u001b[0m                             Traceback (most recent call last)",
      "Cell \u001b[0;32mIn[3], line 4\u001b[0m\n\u001b[1;32m      2\u001b[0m \u001b[38;5;28;01mfrom\u001b[39;00m \u001b[38;5;21;01mcustom\u001b[39;00m\u001b[38;5;21;01m.\u001b[39;00m\u001b[38;5;21;01mslicer2\u001b[39;00m \u001b[38;5;28;01mimport\u001b[39;00m predata\n\u001b[1;32m      3\u001b[0m \u001b[38;5;28;01mimport\u001b[39;00m \u001b[38;5;21;01mrequests\u001b[39;00m\n\u001b[0;32m----> 4\u001b[0m response \u001b[38;5;241m=\u001b[39m \u001b[43mrequests\u001b[49m\u001b[38;5;241;43m.\u001b[39;49m\u001b[43mget\u001b[49m\u001b[43m(\u001b[49m\u001b[38;5;124;43m'\u001b[39;49m\u001b[38;5;124;43m孙楠-不见不散.mp3\u001b[39;49m\u001b[38;5;124;43m'\u001b[39;49m\u001b[43m,\u001b[49m\u001b[43m \u001b[49m\u001b[43mstream\u001b[49m\u001b[38;5;241;43m=\u001b[39;49m\u001b[38;5;28;43;01mTrue\u001b[39;49;00m\u001b[43m)\u001b[49m\n\u001b[1;32m      7\u001b[0m \u001b[38;5;28mlist\u001b[39m \u001b[38;5;241m=\u001b[39m []\n\u001b[1;32m      8\u001b[0m \u001b[38;5;28mlist\u001b[39m\u001b[38;5;241m.\u001b[39mappend(content)\n",
      "File \u001b[0;32m~/miniconda3/lib/python3.10/site-packages/requests/api.py:73\u001b[0m, in \u001b[0;36mget\u001b[0;34m(url, params, **kwargs)\u001b[0m\n\u001b[1;32m     62\u001b[0m \u001b[38;5;28;01mdef\u001b[39;00m \u001b[38;5;21mget\u001b[39m(url, params\u001b[38;5;241m=\u001b[39m\u001b[38;5;28;01mNone\u001b[39;00m, \u001b[38;5;241m*\u001b[39m\u001b[38;5;241m*\u001b[39mkwargs):\n\u001b[1;32m     63\u001b[0m \u001b[38;5;250m    \u001b[39m\u001b[38;5;124mr\u001b[39m\u001b[38;5;124;03m\"\"\"Sends a GET request.\u001b[39;00m\n\u001b[1;32m     64\u001b[0m \n\u001b[1;32m     65\u001b[0m \u001b[38;5;124;03m    :param url: URL for the new :class:`Request` object.\u001b[39;00m\n\u001b[0;32m   (...)\u001b[0m\n\u001b[1;32m     70\u001b[0m \u001b[38;5;124;03m    :rtype: requests.Response\u001b[39;00m\n\u001b[1;32m     71\u001b[0m \u001b[38;5;124;03m    \"\"\"\u001b[39;00m\n\u001b[0;32m---> 73\u001b[0m     \u001b[38;5;28;01mreturn\u001b[39;00m \u001b[43mrequest\u001b[49m\u001b[43m(\u001b[49m\u001b[38;5;124;43m\"\u001b[39;49m\u001b[38;5;124;43mget\u001b[39;49m\u001b[38;5;124;43m\"\u001b[39;49m\u001b[43m,\u001b[49m\u001b[43m \u001b[49m\u001b[43murl\u001b[49m\u001b[43m,\u001b[49m\u001b[43m \u001b[49m\u001b[43mparams\u001b[49m\u001b[38;5;241;43m=\u001b[39;49m\u001b[43mparams\u001b[49m\u001b[43m,\u001b[49m\u001b[43m \u001b[49m\u001b[38;5;241;43m*\u001b[39;49m\u001b[38;5;241;43m*\u001b[39;49m\u001b[43mkwargs\u001b[49m\u001b[43m)\u001b[49m\n",
      "File \u001b[0;32m~/miniconda3/lib/python3.10/site-packages/requests/api.py:59\u001b[0m, in \u001b[0;36mrequest\u001b[0;34m(method, url, **kwargs)\u001b[0m\n\u001b[1;32m     55\u001b[0m \u001b[38;5;66;03m# By using the 'with' statement we are sure the session is closed, thus we\u001b[39;00m\n\u001b[1;32m     56\u001b[0m \u001b[38;5;66;03m# avoid leaving sockets open which can trigger a ResourceWarning in some\u001b[39;00m\n\u001b[1;32m     57\u001b[0m \u001b[38;5;66;03m# cases, and look like a memory leak in others.\u001b[39;00m\n\u001b[1;32m     58\u001b[0m \u001b[38;5;28;01mwith\u001b[39;00m sessions\u001b[38;5;241m.\u001b[39mSession() \u001b[38;5;28;01mas\u001b[39;00m session:\n\u001b[0;32m---> 59\u001b[0m     \u001b[38;5;28;01mreturn\u001b[39;00m \u001b[43msession\u001b[49m\u001b[38;5;241;43m.\u001b[39;49m\u001b[43mrequest\u001b[49m\u001b[43m(\u001b[49m\u001b[43mmethod\u001b[49m\u001b[38;5;241;43m=\u001b[39;49m\u001b[43mmethod\u001b[49m\u001b[43m,\u001b[49m\u001b[43m \u001b[49m\u001b[43murl\u001b[49m\u001b[38;5;241;43m=\u001b[39;49m\u001b[43murl\u001b[49m\u001b[43m,\u001b[49m\u001b[43m \u001b[49m\u001b[38;5;241;43m*\u001b[39;49m\u001b[38;5;241;43m*\u001b[39;49m\u001b[43mkwargs\u001b[49m\u001b[43m)\u001b[49m\n",
      "File \u001b[0;32m~/miniconda3/lib/python3.10/site-packages/requests/sessions.py:573\u001b[0m, in \u001b[0;36mSession.request\u001b[0;34m(self, method, url, params, data, headers, cookies, files, auth, timeout, allow_redirects, proxies, hooks, stream, verify, cert, json)\u001b[0m\n\u001b[1;32m    560\u001b[0m \u001b[38;5;66;03m# Create the Request.\u001b[39;00m\n\u001b[1;32m    561\u001b[0m req \u001b[38;5;241m=\u001b[39m Request(\n\u001b[1;32m    562\u001b[0m     method\u001b[38;5;241m=\u001b[39mmethod\u001b[38;5;241m.\u001b[39mupper(),\n\u001b[1;32m    563\u001b[0m     url\u001b[38;5;241m=\u001b[39murl,\n\u001b[0;32m   (...)\u001b[0m\n\u001b[1;32m    571\u001b[0m     hooks\u001b[38;5;241m=\u001b[39mhooks,\n\u001b[1;32m    572\u001b[0m )\n\u001b[0;32m--> 573\u001b[0m prep \u001b[38;5;241m=\u001b[39m \u001b[38;5;28;43mself\u001b[39;49m\u001b[38;5;241;43m.\u001b[39;49m\u001b[43mprepare_request\u001b[49m\u001b[43m(\u001b[49m\u001b[43mreq\u001b[49m\u001b[43m)\u001b[49m\n\u001b[1;32m    575\u001b[0m proxies \u001b[38;5;241m=\u001b[39m proxies \u001b[38;5;129;01mor\u001b[39;00m {}\n\u001b[1;32m    577\u001b[0m settings \u001b[38;5;241m=\u001b[39m \u001b[38;5;28mself\u001b[39m\u001b[38;5;241m.\u001b[39mmerge_environment_settings(\n\u001b[1;32m    578\u001b[0m     prep\u001b[38;5;241m.\u001b[39murl, proxies, stream, verify, cert\n\u001b[1;32m    579\u001b[0m )\n",
      "File \u001b[0;32m~/miniconda3/lib/python3.10/site-packages/requests/sessions.py:484\u001b[0m, in \u001b[0;36mSession.prepare_request\u001b[0;34m(self, request)\u001b[0m\n\u001b[1;32m    481\u001b[0m     auth \u001b[38;5;241m=\u001b[39m get_netrc_auth(request\u001b[38;5;241m.\u001b[39murl)\n\u001b[1;32m    483\u001b[0m p \u001b[38;5;241m=\u001b[39m PreparedRequest()\n\u001b[0;32m--> 484\u001b[0m \u001b[43mp\u001b[49m\u001b[38;5;241;43m.\u001b[39;49m\u001b[43mprepare\u001b[49m\u001b[43m(\u001b[49m\n\u001b[1;32m    485\u001b[0m \u001b[43m    \u001b[49m\u001b[43mmethod\u001b[49m\u001b[38;5;241;43m=\u001b[39;49m\u001b[43mrequest\u001b[49m\u001b[38;5;241;43m.\u001b[39;49m\u001b[43mmethod\u001b[49m\u001b[38;5;241;43m.\u001b[39;49m\u001b[43mupper\u001b[49m\u001b[43m(\u001b[49m\u001b[43m)\u001b[49m\u001b[43m,\u001b[49m\n\u001b[1;32m    486\u001b[0m \u001b[43m    \u001b[49m\u001b[43murl\u001b[49m\u001b[38;5;241;43m=\u001b[39;49m\u001b[43mrequest\u001b[49m\u001b[38;5;241;43m.\u001b[39;49m\u001b[43murl\u001b[49m\u001b[43m,\u001b[49m\n\u001b[1;32m    487\u001b[0m \u001b[43m    \u001b[49m\u001b[43mfiles\u001b[49m\u001b[38;5;241;43m=\u001b[39;49m\u001b[43mrequest\u001b[49m\u001b[38;5;241;43m.\u001b[39;49m\u001b[43mfiles\u001b[49m\u001b[43m,\u001b[49m\n\u001b[1;32m    488\u001b[0m \u001b[43m    \u001b[49m\u001b[43mdata\u001b[49m\u001b[38;5;241;43m=\u001b[39;49m\u001b[43mrequest\u001b[49m\u001b[38;5;241;43m.\u001b[39;49m\u001b[43mdata\u001b[49m\u001b[43m,\u001b[49m\n\u001b[1;32m    489\u001b[0m \u001b[43m    \u001b[49m\u001b[43mjson\u001b[49m\u001b[38;5;241;43m=\u001b[39;49m\u001b[43mrequest\u001b[49m\u001b[38;5;241;43m.\u001b[39;49m\u001b[43mjson\u001b[49m\u001b[43m,\u001b[49m\n\u001b[1;32m    490\u001b[0m \u001b[43m    \u001b[49m\u001b[43mheaders\u001b[49m\u001b[38;5;241;43m=\u001b[39;49m\u001b[43mmerge_setting\u001b[49m\u001b[43m(\u001b[49m\n\u001b[1;32m    491\u001b[0m \u001b[43m        \u001b[49m\u001b[43mrequest\u001b[49m\u001b[38;5;241;43m.\u001b[39;49m\u001b[43mheaders\u001b[49m\u001b[43m,\u001b[49m\u001b[43m \u001b[49m\u001b[38;5;28;43mself\u001b[39;49m\u001b[38;5;241;43m.\u001b[39;49m\u001b[43mheaders\u001b[49m\u001b[43m,\u001b[49m\u001b[43m \u001b[49m\u001b[43mdict_class\u001b[49m\u001b[38;5;241;43m=\u001b[39;49m\u001b[43mCaseInsensitiveDict\u001b[49m\n\u001b[1;32m    492\u001b[0m \u001b[43m    \u001b[49m\u001b[43m)\u001b[49m\u001b[43m,\u001b[49m\n\u001b[1;32m    493\u001b[0m \u001b[43m    \u001b[49m\u001b[43mparams\u001b[49m\u001b[38;5;241;43m=\u001b[39;49m\u001b[43mmerge_setting\u001b[49m\u001b[43m(\u001b[49m\u001b[43mrequest\u001b[49m\u001b[38;5;241;43m.\u001b[39;49m\u001b[43mparams\u001b[49m\u001b[43m,\u001b[49m\u001b[43m \u001b[49m\u001b[38;5;28;43mself\u001b[39;49m\u001b[38;5;241;43m.\u001b[39;49m\u001b[43mparams\u001b[49m\u001b[43m)\u001b[49m\u001b[43m,\u001b[49m\n\u001b[1;32m    494\u001b[0m \u001b[43m    \u001b[49m\u001b[43mauth\u001b[49m\u001b[38;5;241;43m=\u001b[39;49m\u001b[43mmerge_setting\u001b[49m\u001b[43m(\u001b[49m\u001b[43mauth\u001b[49m\u001b[43m,\u001b[49m\u001b[43m \u001b[49m\u001b[38;5;28;43mself\u001b[39;49m\u001b[38;5;241;43m.\u001b[39;49m\u001b[43mauth\u001b[49m\u001b[43m)\u001b[49m\u001b[43m,\u001b[49m\n\u001b[1;32m    495\u001b[0m \u001b[43m    \u001b[49m\u001b[43mcookies\u001b[49m\u001b[38;5;241;43m=\u001b[39;49m\u001b[43mmerged_cookies\u001b[49m\u001b[43m,\u001b[49m\n\u001b[1;32m    496\u001b[0m \u001b[43m    \u001b[49m\u001b[43mhooks\u001b[49m\u001b[38;5;241;43m=\u001b[39;49m\u001b[43mmerge_hooks\u001b[49m\u001b[43m(\u001b[49m\u001b[43mrequest\u001b[49m\u001b[38;5;241;43m.\u001b[39;49m\u001b[43mhooks\u001b[49m\u001b[43m,\u001b[49m\u001b[43m \u001b[49m\u001b[38;5;28;43mself\u001b[39;49m\u001b[38;5;241;43m.\u001b[39;49m\u001b[43mhooks\u001b[49m\u001b[43m)\u001b[49m\u001b[43m,\u001b[49m\n\u001b[1;32m    497\u001b[0m \u001b[43m\u001b[49m\u001b[43m)\u001b[49m\n\u001b[1;32m    498\u001b[0m \u001b[38;5;28;01mreturn\u001b[39;00m p\n",
      "File \u001b[0;32m~/miniconda3/lib/python3.10/site-packages/requests/models.py:368\u001b[0m, in \u001b[0;36mPreparedRequest.prepare\u001b[0;34m(self, method, url, headers, files, data, params, auth, cookies, hooks, json)\u001b[0m\n\u001b[1;32m    365\u001b[0m \u001b[38;5;250m\u001b[39m\u001b[38;5;124;03m\"\"\"Prepares the entire request with the given parameters.\"\"\"\u001b[39;00m\n\u001b[1;32m    367\u001b[0m \u001b[38;5;28mself\u001b[39m\u001b[38;5;241m.\u001b[39mprepare_method(method)\n\u001b[0;32m--> 368\u001b[0m \u001b[38;5;28;43mself\u001b[39;49m\u001b[38;5;241;43m.\u001b[39;49m\u001b[43mprepare_url\u001b[49m\u001b[43m(\u001b[49m\u001b[43murl\u001b[49m\u001b[43m,\u001b[49m\u001b[43m \u001b[49m\u001b[43mparams\u001b[49m\u001b[43m)\u001b[49m\n\u001b[1;32m    369\u001b[0m \u001b[38;5;28mself\u001b[39m\u001b[38;5;241m.\u001b[39mprepare_headers(headers)\n\u001b[1;32m    370\u001b[0m \u001b[38;5;28mself\u001b[39m\u001b[38;5;241m.\u001b[39mprepare_cookies(cookies)\n",
      "File \u001b[0;32m~/miniconda3/lib/python3.10/site-packages/requests/models.py:439\u001b[0m, in \u001b[0;36mPreparedRequest.prepare_url\u001b[0;34m(self, url, params)\u001b[0m\n\u001b[1;32m    436\u001b[0m     \u001b[38;5;28;01mraise\u001b[39;00m InvalidURL(\u001b[38;5;241m*\u001b[39me\u001b[38;5;241m.\u001b[39margs)\n\u001b[1;32m    438\u001b[0m \u001b[38;5;28;01mif\u001b[39;00m \u001b[38;5;129;01mnot\u001b[39;00m scheme:\n\u001b[0;32m--> 439\u001b[0m     \u001b[38;5;28;01mraise\u001b[39;00m MissingSchema(\n\u001b[1;32m    440\u001b[0m         \u001b[38;5;124mf\u001b[39m\u001b[38;5;124m\"\u001b[39m\u001b[38;5;124mInvalid URL \u001b[39m\u001b[38;5;132;01m{\u001b[39;00murl\u001b[38;5;132;01m!r}\u001b[39;00m\u001b[38;5;124m: No scheme supplied. \u001b[39m\u001b[38;5;124m\"\u001b[39m\n\u001b[1;32m    441\u001b[0m         \u001b[38;5;124mf\u001b[39m\u001b[38;5;124m\"\u001b[39m\u001b[38;5;124mPerhaps you meant http://\u001b[39m\u001b[38;5;132;01m{\u001b[39;00murl\u001b[38;5;132;01m}\u001b[39;00m\u001b[38;5;124m?\u001b[39m\u001b[38;5;124m\"\u001b[39m\n\u001b[1;32m    442\u001b[0m     )\n\u001b[1;32m    444\u001b[0m \u001b[38;5;28;01mif\u001b[39;00m \u001b[38;5;129;01mnot\u001b[39;00m host:\n\u001b[1;32m    445\u001b[0m     \u001b[38;5;28;01mraise\u001b[39;00m InvalidURL(\u001b[38;5;124mf\u001b[39m\u001b[38;5;124m\"\u001b[39m\u001b[38;5;124mInvalid URL \u001b[39m\u001b[38;5;132;01m{\u001b[39;00murl\u001b[38;5;132;01m!r}\u001b[39;00m\u001b[38;5;124m: No host supplied\u001b[39m\u001b[38;5;124m\"\u001b[39m)\n",
      "\u001b[0;31mMissingSchema\u001b[0m: Invalid URL '孙楠-不见不散.mp3': No scheme supplied. Perhaps you meant http://孙楠-不见不散.mp3?"
     ]
    }
   ],
   "source": [
    "from infer.modules.uvr5.modules import uvr\n",
    "from custom.slicer2 import predata\n",
    "import requests\n",
    "response = requests.get('孙楠-不见不散.mp3', stream=True)\n",
    "\n",
    " \n",
    "list = []\n",
    "list.append(content)\n",
    "rst = uvr(\"HP5-主旋律人声vocals+其他instrumentals\",\"\",\"opt3\"\n",
    ",list,\"op3t\",10,\"wav\")\n",
    "print(\"rst\",rst)\n",
    "#slice_data = predata(rst[\"vocal\"])\n",
    "\n",
    "# for slice in slice_data:\n",
    "#     audio, sr = librosa.load(slice[\"wav_path\"])\n",
    "#     duration = librosa.get_duration(audio, sr)\n",
    "#     print(\"音频文件时长：\", wav_path,duration, \"秒\")\n"
   ]
  },
  {
   "cell_type": "code",
   "execution_count": 8,
   "id": "227ed21e-67d3-40b6-8bcc-f345b8f1c4ea",
   "metadata": {},
   "outputs": [
    {
     "data": {
      "text/plain": [
       "0.01"
      ]
     },
     "execution_count": 8,
     "metadata": {},
     "output_type": "execute_result"
    }
   ],
   "source": [
    "10 ** (-40. / 20.)"
   ]
  },
  {
   "cell_type": "code",
   "execution_count": 45,
   "id": "96b37ad3-5794-4066-882b-222bb7ffeb23",
   "metadata": {},
   "outputs": [
    {
     "name": "stdout",
     "output_type": "stream",
     "text": [
      "True\n",
      "True\n",
      "False\n"
     ]
    }
   ],
   "source": [
    "import re\n",
    "\n",
    "def has_e_minus(number):\n",
    "    pattern = r\"e-\"\n",
    "    if re.search(pattern, str(number)):\n",
    "        return True\n",
    "    else:\n",
    "        return False\n",
    "\n",
    "a=0.321e-323\n",
    "# 测试示例\n",
    "print(has_e_minus(a))  # 输出 True\n",
    "print(has_e_minus(\"0.00e-1\"))  # 输出 False\n",
    "print(has_e_minus(5.67))  # 输出 False"
   ]
  },
  {
   "cell_type": "code",
   "execution_count": 50,
   "id": "e76627a5-6c9e-4ad6-b019-373af4fd2d65",
   "metadata": {},
   "outputs": [
    {
     "data": {
      "text/plain": [
       "<_io.BufferedRandom name='opt2/slice/tmp/all_fl2.wav'>"
      ]
     },
     "execution_count": 50,
     "metadata": {},
     "output_type": "execute_result"
    }
   ],
   "source": [
    "from pydub import AudioSegment\n",
    "import os\n",
    "\n",
    "\n",
    "\n",
    "\n",
    "filepath = \"opt2/slice/tmp/all_fl.wav\"\n",
    "\n",
    "song1 = AudioSegment.from_file(filepath, format=\"wav\")\n",
    "\n",
    "# 音量增大16db\n",
    "song2 = song1 + 20\n",
    "\n",
    "song2.export(\"opt2/slice/tmp/all_fl2.wav\", format=\"wav\")"
   ]
  },
  {
   "cell_type": "code",
   "execution_count": null,
   "id": "b9f36f8e-b728-4a03-86d1-b6b4fc2b34b2",
   "metadata": {},
   "outputs": [],
   "source": []
  }
 ],
 "metadata": {
  "kernelspec": {
   "display_name": "Python 3 (ipykernel)",
   "language": "python",
   "name": "python3"
  },
  "language_info": {
   "codemirror_mode": {
    "name": "ipython",
    "version": 3
   },
   "file_extension": ".py",
   "mimetype": "text/x-python",
   "name": "python",
   "nbconvert_exporter": "python",
   "pygments_lexer": "ipython3",
   "version": "3.10.8"
  }
 },
 "nbformat": 4,
 "nbformat_minor": 5
}
